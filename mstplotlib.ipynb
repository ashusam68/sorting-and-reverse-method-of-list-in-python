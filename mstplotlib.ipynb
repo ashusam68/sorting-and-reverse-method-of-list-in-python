{
  "nbformat": 4,
  "nbformat_minor": 0,
  "metadata": {
    "colab": {
      "name": "Untitled0.ipynb",
      "provenance": [],
      "authorship_tag": "ABX9TyOfRL5hNrrEnmi1/ygbdHlc",
      "include_colab_link": true
    },
    "kernelspec": {
      "name": "python3",
      "display_name": "Python 3"
    }
  },
  "cells": [
    {
      "cell_type": "markdown",
      "metadata": {
        "id": "view-in-github",
        "colab_type": "text"
      },
      "source": [
        "<a href=\"https://colab.research.google.com/github/ashusam68/sorting-and-reverse-method-of-list-in-python/blob/master/mstplotlib.ipynb\" target=\"_parent\"><img src=\"https://colab.research.google.com/assets/colab-badge.svg\" alt=\"Open In Colab\"/></a>"
      ]
    },
    {
      "cell_type": "code",
      "metadata": {
        "colab": {
          "base_uri": "https://localhost:8080/",
          "height": 282
        },
        "id": "Tpti_3f6pc35",
        "outputId": "589676e8-1110-42f5-e065-8f0c02f61731"
      },
      "source": [
        "import matplotlib.pyplot as plt\r\n",
        "x = [1,2,5,6,7,8,9,10]\r\n",
        "y = [2,4,6,12,15,16,10,21]\r\n",
        "plt.plot(x,y)\r\n",
        "\r\n"
      ],
      "execution_count": 1,
      "outputs": [
        {
          "output_type": "execute_result",
          "data": {
            "text/plain": [
              "[<matplotlib.lines.Line2D at 0x7f4928cb6a50>]"
            ]
          },
          "metadata": {
            "tags": []
          },
          "execution_count": 1
        },
        {
          "output_type": "display_data",
          "data": {
            "image/png": "[encoded data removed]",
            "text/plain": [
              "<Figure size 432x288 with 1 Axes>"
            ]
          },
          "metadata": {
            "tags": [],
            "needs_background": "light"
          }
        }
      ]
    },
    {
      "cell_type": "code",
      "metadata": {
        "colab": {
          "base_uri": "https://localhost:8080/",
          "height": 346
        },
        "id": "-9fCx7aGq-eF",
        "outputId": "d30aee78-3ac1-47c5-b91e-38b5cfd56c17"
      },
      "source": [
        "x = [1,2,3,4,5,6,7,8,9,10]\r\n",
        "import numpy as np\r\n",
        "x = np.array(x)\r\n",
        "plt.plot(x,x,label=\"leniar\",color=\"r\")\r\n",
        "plt.plot(x,x*x,label=\"2nd\")\r\n",
        "plt.scatter(x,x*3)\r\n",
        "plt.title(\"xy\")\r\n",
        "plt.xlabel(\"x\")\r\n",
        "plt.ylabel(\"y\")\r\n",
        "plt.legend()\r\n"
      ],
      "execution_count": 15,
      "outputs": [
        {
          "output_type": "execute_result",
          "data": {
            "text/plain": [
              "(array([1., 1., 1., 1., 1., 1., 1., 1., 1., 1.]),\n",
              " array([ 1. ,  1.9,  2.8,  3.7,  4.6,  5.5,  6.4,  7.3,  8.2,  9.1, 10. ]),\n",
              " <a list of 10 Patch objects>)"
            ]
          },
          "metadata": {
            "tags": []
          },
          "execution_count": 15
        },
        {
          "output_type": "display_data",
          "data": {
            "image/png": "[encoded data removed]",
            "text/plain": [
              "<Figure size 432x288 with 1 Axes>"
            ]
          },
          "metadata": {
            "tags": [],
            "needs_background": "light"
          }
        }
      ]
    },
    {
      "cell_type": "code",
      "metadata": {
        "colab": {
          "base_uri": "https://localhost:8080/",
          "height": 316
        },
        "id": "M_pluym4vzXy",
        "outputId": "16ded10e-1b89-48d3-b461-8db16dfc936f"
      },
      "source": [
        "x = [1.2,3.5,6,5,0,24]\r\n",
        "plt.hist(x)\r\n"
      ],
      "execution_count": 17,
      "outputs": [
        {
          "output_type": "execute_result",
          "data": {
            "text/plain": [
              "(array([2., 1., 2., 0., 0., 0., 0., 0., 0., 1.]),\n",
              " array([ 0. ,  2.4,  4.8,  7.2,  9.6, 12. , 14.4, 16.8, 19.2, 21.6, 24. ]),\n",
              " <a list of 10 Patch objects>)"
            ]
          },
          "metadata": {
            "tags": []
          },
          "execution_count": 17
        },
        {
          "output_type": "display_data",
          "data": {
            "image/png": "[encoded data removed]",
            "text/plain": [
              "<Figure size 432x288 with 1 Axes>"
            ]
          },
          "metadata": {
            "tags": [],
            "needs_background": "light"
          }
        }
      ]
    },
    {
      "cell_type": "code",
      "metadata": {
        "colab": {
          "base_uri": "https://localhost:8080/",
          "height": 282
        },
        "id": "76rAmAdWwHmO",
        "outputId": "cc46dc13-60e6-4040-87fc-cdb81b458ea2"
      },
      "source": [
        "x = [20,5,7,9,10]\r\n",
        "y = [2,4,6,8,12]\r\n",
        "plt.bar(x,y)"
      ],
      "execution_count": 18,
      "outputs": [
        {
          "output_type": "execute_result",
          "data": {
            "text/plain": [
              "<BarContainer object of 5 artists>"
            ]
          },
          "metadata": {
            "tags": []
          },
          "execution_count": 18
        },
        {
          "output_type": "display_data",
          "data": {
            "image/png": "[encoded data removed]",
            "text/plain": [
              "<Figure size 432x288 with 1 Axes>"
            ]
          },
          "metadata": {
            "tags": [],
            "needs_background": "light"
          }
        }
      ]
    },
    {
      "cell_type": "code",
      "metadata": {
        "id": "Ao9rJsxNxI68"
      },
      "source": [
        "import numpy as np\r\n",
        "x = np.linspace(0,20,2)\r\n"
      ],
      "execution_count": null,
      "outputs": []
    },
    {
      "cell_type": "code",
      "metadata": {
        "colab": {
          "base_uri": "https://localhost:8080/",
          "height": 282
        },
        "id": "klZO_iDPxaEK",
        "outputId": "b93b6ba0-08dc-4f53-88f2-ea82d0e8ce17"
      },
      "source": [
        "import numpy as np\r\n",
        "\r\n",
        "x = [2,4,5,6,12,4]\r\n",
        "N = 6\r\n",
        "ind = np.arange(N)\r\n",
        "plt.xticks(ind,('G1','G2','G3','G4','G5','G6'))\r\n",
        "plt.bar(ind,x,color=\"r\")"
      ],
      "execution_count": 22,
      "outputs": [
        {
          "output_type": "execute_result",
          "data": {
            "text/plain": [
              "<BarContainer object of 6 artists>"
            ]
          },
          "metadata": {
            "tags": []
          },
          "execution_count": 22
        },
        {
          "output_type": "display_data",
          "data": {
            "image/png": "[encoded data removed]",
            "text/plain": [
              "<Figure size 432x288 with 1 Axes>"
            ]
          },
          "metadata": {
            "tags": [],
            "needs_background": "light"
          }
        }
      ]
    },
    {
      "cell_type": "code",
      "metadata": {
        "colab": {
          "base_uri": "https://localhost:8080/",
          "height": 312
        },
        "id": "Bwa5YGfHz607",
        "outputId": "bba9921e-e6e3-4721-f1cc-fe391c3eaaa5"
      },
      "source": [
        "import numpy as np\r\n",
        "\r\n",
        "x = [20,30,10,18,9]\r\n",
        "N = 5\r\n",
        "index = np.arange(N)\r\n",
        "plt.xticks(index,('ram','shyam','dinesh','suresh','mahesh'))\r\n",
        "plt.bar(index,x,color=\"black\")\r\n",
        "plt.xlabel('Employee Name')\r\n",
        "plt.ylabel('Salary in k')\r\n",
        "plt.title('Salary Index')"
      ],
      "execution_count": 29,
      "outputs": [
        {
          "output_type": "execute_result",
          "data": {
            "text/plain": [
              "Text(0.5, 1.0, 'Salary Index')"
            ]
          },
          "metadata": {
            "tags": []
          },
          "execution_count": 29
        },
        {
          "output_type": "display_data",
          "data": {
            "image/png": "[encoded data removed]",
            "text/plain": [
              "<Figure size 432x288 with 1 Axes>"
            ]
          },
          "metadata": {
            "tags": [],
            "needs_background": "light"
          }
        }
      ]
    },
    {
      "cell_type": "code",
      "metadata": {
        "colab": {
          "base_uri": "https://localhost:8080/",
          "height": 269
        },
        "id": "OMFyyVsF53c2",
        "outputId": "a3c3aac4-bfce-4b50-a8e0-cfb9bc08c2e6"
      },
      "source": [
        "x= [2,4,5,6,12,4]\r\n",
        "y = [7,12,1,2,3,1]\r\n",
        "N = 6\r\n",
        "ind  = np.arange(N)\r\n",
        "width = 0.35\r\n",
        "p1 = plt.bar(ind-width/2,x,width)\r\n",
        "plt.xticks(ind,('G1','G2','G3','G4','G5','G6'))\r\n",
        "p2 = plt.bar(ind+width/2,x,width)\r\n",
        "plt.yticks(np.arange(0,30,3))\r\n",
        "plt.show()"
      ],
      "execution_count": 31,
      "outputs": [
        {
          "output_type": "display_data",
          "data": {
            "image/png": "[encoded data removed]",
            "text/plain": [
              "<Figure size 432x288 with 1 Axes>"
            ]
          },
          "metadata": {
            "tags": [],
            "needs_background": "light"
          }
        }
      ]
    }
  ]
}